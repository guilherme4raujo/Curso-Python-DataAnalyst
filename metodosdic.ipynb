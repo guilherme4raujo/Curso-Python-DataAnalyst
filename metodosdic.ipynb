{
 "cells": [
  {
   "cell_type": "code",
   "execution_count": 9,
   "id": "d34206a6-f43d-455c-a0d6-5d506cc584cf",
   "metadata": {},
   "outputs": [],
   "source": [
    "vendas_tecnologia = {'notebook asus': 2450, 'iphone': 15000, 'samsung galaxy': 12000, 'tv samsung': 10000, 'ps5': 14300, 'tablet': 1720, 'notebook dell': 17000, 'ipad': 1000, 'tv philco': 2500, 'notebook hp': 1000}"
   ]
  },
  {
   "cell_type": "code",
   "execution_count": 3,
   "id": "22f9eef2-6286-4534-9feb-e44daa9e1719",
   "metadata": {},
   "outputs": [
    {
     "name": "stdout",
     "output_type": "stream",
     "text": [
      "dict_items([('notebook asus', 2450), ('iphone', 15000), ('samsung galaxy', 12000), ('tv samsung', 10000), ('ps5', 14300), ('tablet', 1720), ('notebook dell', 17000), ('ipad', 1000), ('tv philco', 2500), ('notebook hp', 1000)])\n"
     ]
    }
   ],
   "source": [
    "itens_dicionario = vendas_tecnologia.items()\n",
    "print(itens_dicionario)"
   ]
  },
  {
   "cell_type": "code",
   "execution_count": 5,
   "id": "6090ab58-692d-470a-b15a-247ecc066650",
   "metadata": {},
   "outputs": [
    {
     "name": "stdout",
     "output_type": "stream",
     "text": [
      "notebook asus produto tem 2450 unidades\n",
      "iphone produto tem 15000 unidades\n",
      "samsung galaxy produto tem 12000 unidades\n",
      "tv samsung produto tem 10000 unidades\n",
      "ps5 produto tem 14300 unidades\n",
      "tablet produto tem 1720 unidades\n",
      "notebook dell produto tem 17000 unidades\n",
      "ipad produto tem 1000 unidades\n",
      "tv philco produto tem 2500 unidades\n",
      "notebook hp produto tem 1000 unidades\n"
     ]
    }
   ],
   "source": [
    "for produto, quantidade in vendas_tecnologia.items():\n",
    "    print('{} produto tem {} unidades'.format(produto, quantidade))"
   ]
  },
  {
   "cell_type": "code",
   "execution_count": 7,
   "id": "85cc3757-7893-4b06-a46a-c746eaa21deb",
   "metadata": {},
   "outputs": [
    {
     "name": "stdout",
     "output_type": "stream",
     "text": [
      "iphone produto tem 15000 unidades vendidas\n",
      "samsung galaxy produto tem 12000 unidades vendidas\n",
      "tv samsung produto tem 10000 unidades vendidas\n",
      "ps5 produto tem 14300 unidades vendidas\n",
      "notebook dell produto tem 17000 unidades vendidas\n"
     ]
    }
   ],
   "source": [
    "for chave in vendas_tecnologia:\n",
    "    if vendas_tecnologia[chave] > 5000:\n",
    "        print('{} produto tem {} unidades vendidas'.format(chave, vendas_tecnologia[chave]))"
   ]
  },
  {
   "cell_type": "code",
   "execution_count": 11,
   "id": "efa250f3-f6ea-4892-bdaf-b054cc9141ad",
   "metadata": {},
   "outputs": [
    {
     "name": "stdout",
     "output_type": "stream",
     "text": [
      "iphone: 15000 unidades vendidas\n",
      "samsung galaxy: 12000 unidades vendidas\n",
      "tv samsung: 10000 unidades vendidas\n",
      "ps5: 14300 unidades vendidas\n",
      "notebook dell: 17000 unidades vendidas\n"
     ]
    }
   ],
   "source": [
    "for produto, quantidade in vendas_tecnologia.items():\n",
    "    if quantidade > 5000:\n",
    "        print('{}: {} unidades vendidas'.format(produto, quantidade))\n"
   ]
  },
  {
   "cell_type": "code",
   "execution_count": null,
   "id": "86dfc342-d12c-4358-a8ad-a3672721fb4e",
   "metadata": {},
   "outputs": [],
   "source": []
  }
 ],
 "metadata": {
  "kernelspec": {
   "display_name": "Python 3 (ipykernel)",
   "language": "python",
   "name": "python3"
  },
  "language_info": {
   "codemirror_mode": {
    "name": "ipython",
    "version": 3
   },
   "file_extension": ".py",
   "mimetype": "text/x-python",
   "name": "python",
   "nbconvert_exporter": "python",
   "pygments_lexer": "ipython3",
   "version": "3.11.7"
  }
 },
 "nbformat": 4,
 "nbformat_minor": 5
}
