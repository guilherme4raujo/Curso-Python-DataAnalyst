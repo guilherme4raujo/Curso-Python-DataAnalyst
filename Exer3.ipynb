{
 "cells": [
  {
   "cell_type": "code",
   "execution_count": 7,
   "id": "986b3e53-1d6c-4949-a4ac-80d8a550e566",
   "metadata": {},
   "outputs": [
    {
     "name": "stdout",
     "output_type": "stream",
     "text": [
      "Vendendor João bateu a meta. Fez 15000 vendas\n",
      "Vendendor Julia bateu a meta. Fez 27000 vendas\n",
      "Vendendor Ana bateu a meta. Fez 10300 vendas\n"
     ]
    }
   ],
   "source": [
    "meta = 10000\n",
    "vendas = [\n",
    "    ['João', 15000],\n",
    "    ['Julia', 27000],\n",
    "    ['Marcus', 9900],\n",
    "    ['Maria', 3750],\n",
    "    ['Ana', 10300],\n",
    "    ['Alon', 7870],\n",
    "]\n",
    "\n",
    "for item in vendas:\n",
    "   if item[1] >= meta:\n",
    "        print('Vendendor {} bateu a meta. Fez {} vendas'.format(item[0], item[1]))"
   ]
  },
  {
   "cell_type": "code",
   "execution_count": 11,
   "id": "de225c2a-095e-4696-b262-7ed6c6b5482f",
   "metadata": {},
   "outputs": [
    {
     "name": "stdout",
     "output_type": "stream",
     "text": [
      " iphone vendeu R$558,147 em 2019, R$951,642 em 2020 e teve 70.5% de crescimento\n",
      " tv vendeu R$405,252 em 2019, R$787,604 em 2020 e teve 94.3% de crescimento\n",
      " máquina de café vendeu R$718,654 em 2019, R$867,660 em 2020 e teve 20.7% de crescimento\n",
      " notebook dell vendeu R$422,760 em 2019, R$694,913 em 2020 e teve 64.4% de crescimento\n",
      " notebook hp vendeu R$154,753 em 2019, R$539,704 em 2020 e teve 248.8% de crescimento\n",
      " microsoft surface vendeu R$438,508 em 2019, R$667,179 em 2020 e teve 52.1% de crescimento\n",
      " webcam vendeu R$237,467 em 2019, R$295,633 em 2020 e teve 24.5% de crescimento\n",
      " caixa de som vendeu R$489,705 em 2019, R$725,316 em 2020 e teve 48.1% de crescimento\n",
      " microfone vendeu R$328,311 em 2019, R$644,622 em 2020 e teve 96.3% de crescimento\n",
      " câmera canon vendeu R$591,120 em 2019, R$994,303 em 2020 e teve 68.2% de crescimento\n"
     ]
    }
   ],
   "source": [
    "produtos = ['iphone', 'galaxy', 'ipad', 'tv', 'máquina de café', 'kindle', 'geladeira', 'adega', 'notebook dell', 'notebook hp', 'notebook asus', 'microsoft surface', 'webcam', 'caixa de som', 'microfone', 'câmera canon']\n",
    "vendas2019 = [558147,712350,573823,405252,718654,531580,973139,892292,422760,154753,887061,438508,237467,489705,328311,591120]\n",
    "vendas2020 = [951642,244295,26964,787604,867660,78830,710331,646016,694913,539704,324831,667179,295633,725316,644622,994303]\n",
    "\n",
    "for i, produto in enumerate(produtos):\n",
    "    if vendas2020[i] > vendas2019[i]:\n",
    "        crescimento = vendas2020[i]/vendas2019[i] - 1\n",
    "        print(' {} vendeu R${:,} em 2019, R${:,} em 2020 e teve {:.1%} de crescimento' .format(produto, vendas2019[i], vendas2020[i], crescimento))\n",
    "    "
   ]
  },
  {
   "cell_type": "code",
   "execution_count": null,
   "id": "e1ae7c07-e7e0-48b4-b0a1-8f5f269e7111",
   "metadata": {},
   "outputs": [],
   "source": []
  },
  {
   "cell_type": "code",
   "execution_count": null,
   "id": "dfae0d16-4289-42f0-909c-a72be41956d3",
   "metadata": {},
   "outputs": [],
   "source": []
  },
  {
   "cell_type": "code",
   "execution_count": null,
   "id": "e3e931be-338b-4fb9-8120-9dcf83a10107",
   "metadata": {},
   "outputs": [],
   "source": []
  },
  {
   "cell_type": "code",
   "execution_count": null,
   "id": "0b7ae2aa-4605-435e-8c45-f098c345be15",
   "metadata": {},
   "outputs": [],
   "source": []
  }
 ],
 "metadata": {
  "kernelspec": {
   "display_name": "Python 3 (ipykernel)",
   "language": "python",
   "name": "python3"
  },
  "language_info": {
   "codemirror_mode": {
    "name": "ipython",
    "version": 3
   },
   "file_extension": ".py",
   "mimetype": "text/x-python",
   "name": "python",
   "nbconvert_exporter": "python",
   "pygments_lexer": "ipython3",
   "version": "3.11.7"
  }
 },
 "nbformat": 4,
 "nbformat_minor": 5
}
