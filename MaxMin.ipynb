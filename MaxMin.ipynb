{
 "cells": [
  {
   "cell_type": "code",
   "execution_count": 1,
   "id": "47971506-0c9b-4485-bdeb-c1fd749957fb",
   "metadata": {},
   "outputs": [],
   "source": [
    "produtos = ['tv', 'celular','mouse', 'teclado', 'tablet']"
   ]
  },
  {
   "cell_type": "code",
   "execution_count": 2,
   "id": "0e3dcdba-c53a-40df-b107-6078f688b1a3",
   "metadata": {},
   "outputs": [],
   "source": [
    "vendas = [1000, 1500, 350, 270, 900]"
   ]
  },
  {
   "cell_type": "code",
   "execution_count": 3,
   "id": "65ae2582-d8b6-4ffa-b335-84da117781fd",
   "metadata": {},
   "outputs": [
    {
     "name": "stdout",
     "output_type": "stream",
     "text": [
      "3\n"
     ]
    }
   ],
   "source": [
    "i = vendas.index(270)\n",
    "print(i)\n",
    "\n"
   ]
  },
  {
   "cell_type": "markdown",
   "id": "dd36c9de-9ce0-4680-a19d-04e43c17eb2b",
   "metadata": {},
   "source": [
    "Crie um programa para fazer uma consuta de estoque. O usuário do programa deve inserir o nome do produto e, caso ele não exista na lista, ele é avisado.Caso exista, o programa deve dizer a quantidade de unidades em estoque de produto."
   ]
  },
  {
   "cell_type": "code",
   "execution_count": 4,
   "id": "c0ca9db3-b7c7-44c7-ae7e-eca54241136b",
   "metadata": {},
   "outputs": [
    {
     "name": "stdin",
     "output_type": "stream",
     "text": [
      "Insira o nome do produto tv\n"
     ]
    },
    {
     "name": "stdout",
     "output_type": "stream",
     "text": [
      "Temos 1000 unidades de tv no estoque\n"
     ]
    }
   ],
   "source": [
    "produto = input('Insira o nome do produto')\n",
    "if produto in produtos:\n",
    "    i = produtos.index(produto)\n",
    "    qtde_estoque = vendas[i]\n",
    "    print('Temos {} unidades de {} no estoque'.format(qtde_estoque,produto))\n",
    "else:\n",
    "    print('{} não existe no estoque' .format(produto))\n"
   ]
  },
  {
   "cell_type": "code",
   "execution_count": 5,
   "id": "1913ff58-15d7-4f7d-ada4-20ec97303363",
   "metadata": {},
   "outputs": [
    {
     "name": "stdout",
     "output_type": "stream",
     "text": [
      "1500\n",
      "270\n"
     ]
    }
   ],
   "source": [
    "mais_vendido = max(vendas)\n",
    "menos_vendido = min(vendas)\n",
    "print(mais_vendido)\n",
    "print(menos_vendido)"
   ]
  },
  {
   "cell_type": "code",
   "execution_count": 13,
   "id": "2fcf081a-32e7-4d79-9d69-04463a2b2355",
   "metadata": {},
   "outputs": [
    {
     "name": "stdout",
     "output_type": "stream",
     "text": [
      "1\n",
      "celular\n",
      "O produto mais vendido foi o celular com 1500 unidades vendidas\n"
     ]
    }
   ],
   "source": [
    "i = vendas.index(mais_vendido)\n",
    "produto_mais_vendido = produtos[i]\n",
    "print(i)\n",
    "print(produto_mais_vendido)\n",
    "\n",
    "print('O produto mais vendido foi o {} com {} unidades vendidas' .format(produto_mais_vendido, mais_vendido)) "
   ]
  },
  {
   "cell_type": "code",
   "execution_count": 17,
   "id": "bda093a2-3579-448e-8356-912798a398dd",
   "metadata": {},
   "outputs": [
    {
     "name": "stdout",
     "output_type": "stream",
     "text": [
      "3\n",
      "E o produto menos vendido foi o teclado com 270 unidades vendidas\n"
     ]
    }
   ],
   "source": [
    "i = vendas.index(menos_vendido)\n",
    "print(i)\n",
    "produto_menos_vendido = produtos[i]\n",
    "\n",
    "print('E o produto menos vendido foi o {} com {} unidades vendidas' .format(produto_menos_vendido, menos_vendido))"
   ]
  },
  {
   "cell_type": "code",
   "execution_count": null,
   "id": "e8b15732-8a62-4582-a182-d778b78724ab",
   "metadata": {},
   "outputs": [],
   "source": []
  }
 ],
 "metadata": {
  "kernelspec": {
   "display_name": "Python 3 (ipykernel)",
   "language": "python",
   "name": "python3"
  },
  "language_info": {
   "codemirror_mode": {
    "name": "ipython",
    "version": 3
   },
   "file_extension": ".py",
   "mimetype": "text/x-python",
   "name": "python",
   "nbconvert_exporter": "python",
   "pygments_lexer": "ipython3",
   "version": "3.11.7"
  }
 },
 "nbformat": 4,
 "nbformat_minor": 5
}
