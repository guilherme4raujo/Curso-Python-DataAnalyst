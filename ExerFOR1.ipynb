{
 "cells": [
  {
   "cell_type": "code",
   "execution_count": null,
   "id": "6a45916e-327b-4509-bdc4-8eabd226e91d",
   "metadata": {},
   "outputs": [],
   "source": [
    "quarto = [\n",
    "    ['João', 'cpf:00000000000'],\n",
    "    ['Julia', 'cpf:11111111111'],\n",
    "    ['Marcus', 'cpf:22222222222'],\n",
    "    ['Maria', 'cpf:33333333333'],\n",
    "]"
   ]
  },
  {
   "cell_type": "code",
   "execution_count": 37,
   "id": "568c79e5-baa2-43f9-b1d8-c5e251f41f1c",
   "metadata": {},
   "outputs": [
    {
     "name": "stdin",
     "output_type": "stream",
     "text": [
      "Quantas pessoas terão no quarto? 3\n"
     ]
    },
    {
     "name": "stdout",
     "output_type": "stream",
     "text": [
      "3\n"
     ]
    },
    {
     "name": "stdin",
     "output_type": "stream",
     "text": [
      "Qual nome? Joao\n",
      "Qual CPF? 00000000000\n",
      "Qual nome? Lira\n",
      "Qual CPF? 11111111111\n",
      "Qual nome? Gui\n",
      "Qual CPF? 22222222222\n"
     ]
    },
    {
     "name": "stdout",
     "output_type": "stream",
     "text": [
      "[['Joao', 'cpf:00000000000'], ['Lira', 'cpf:11111111111'], ['Gui', 'cpf:22222222222']]\n"
     ]
    }
   ],
   "source": [
    "qtde_pessoas = int(input('Quantas pessoas terão no quarto?'))\n",
    "print(qtde_pessoas)\n",
    "\n",
    "quarto = []\n",
    "for i in range(qtde_pessoas):\n",
    "    nome = input('Qual nome?')\n",
    "    cpf = input('Qual CPF?')\n",
    "    hospede = [nome, 'cpf:{}' .format(cpf)]\n",
    "\n",
    "    quarto.append(hospede)\n",
    "print(quarto)"
   ]
  },
  {
   "cell_type": "code",
   "execution_count": null,
   "id": "c2462d53-1452-44c0-a447-178f3ecce24d",
   "metadata": {},
   "outputs": [],
   "source": [
    "meta = 10000\\n\",\n",
    "vendas = [\n",
    "    ['João', 15000],\n",
    "    ['Julia', 27000],\n",
    "    ['Marcus', 9900],\n",
    "    ['Maria', 3750],\n",
    "    ['Ana', 10300],\n",
    "    ['Alon', 7870],\n",
    "]"
   ]
  },
  {
   "cell_type": "code",
   "execution_count": null,
   "id": "2e9e7af9-58aa-4712-889c-ddee05a9626e",
   "metadata": {},
   "outputs": [],
   "source": []
  }
 ],
 "metadata": {
  "kernelspec": {
   "display_name": "Python 3 (ipykernel)",
   "language": "python",
   "name": "python3"
  },
  "language_info": {
   "codemirror_mode": {
    "name": "ipython",
    "version": 3
   },
   "file_extension": ".py",
   "mimetype": "text/x-python",
   "name": "python",
   "nbconvert_exporter": "python",
   "pygments_lexer": "ipython3",
   "version": "3.11.7"
  }
 },
 "nbformat": 4,
 "nbformat_minor": 5
}
