{
 "cells": [
  {
   "cell_type": "code",
   "execution_count": 18,
   "id": "8109c4c7-fd72-43a6-b0ee-aab1e57a05d2",
   "metadata": {},
   "outputs": [
    {
     "name": "stdin",
     "output_type": "stream",
     "text": [
      "Registre um produto. Para calcular o registro de um novo produto, basta apertar enter com a caixa vazia \n"
     ]
    },
    {
     "name": "stdout",
     "output_type": "stream",
     "text": [
      "Registro Finalizado. As vendas cadastradas foram [].\n"
     ]
    }
   ],
   "source": [
    "venda = input('Registre um produto. Para calcular o registro de um novo produto, basta apertar enter com a caixa vazia')\n",
    "vendas = []\n",
    "\n",
    "while venda != '':\n",
    "    vendas.append(venda)\n",
    "    venda = input('Registe um produto. Para cancelar o registro de um novo produto, bastar apertar enter com a caixa vazia.')\n",
    "\n",
    "print('Registro Finalizado. As vendas cadastradas foram {}.'.format(vendas))"
   ]
  },
  {
   "cell_type": "code",
   "execution_count": 19,
   "id": "16fde8c4-30f2-46b6-a5a5-83d5cded3791",
   "metadata": {},
   "outputs": [],
   "source": [
    "vendas = [941, 852, 783, 714, 697, 686, 685, 670, 631, 453, 386, 371, 294, 269, 259, 218, 208, 163, 125, 102, 87, 47, 7]\n",
    "vendedores = ['Maria', 'José', 'Antônio', 'João', 'Francisco', 'Ana', 'Luiz', 'Paulo', 'Carlos', 'Manoel', 'Pedro', 'Francisca', 'Marcos', 'Raimundo', 'Sebastião', 'Antônia', 'Marcelo', 'Jorge', 'Márcia', 'Geraldo', 'Adriana', 'Sandra', 'Luis']\n",
    "meta = 50"
   ]
  },
  {
   "cell_type": "code",
   "execution_count": 20,
   "id": "8a770b28-50f4-4f77-8103-e3622b719e9c",
   "metadata": {},
   "outputs": [
    {
     "name": "stdout",
     "output_type": "stream",
     "text": [
      "Maria bateu a meta. Vendas: 941\n",
      "José bateu a meta. Vendas: 852\n",
      "Antônio bateu a meta. Vendas: 783\n",
      "João bateu a meta. Vendas: 714\n",
      "Francisco bateu a meta. Vendas: 697\n",
      "Ana bateu a meta. Vendas: 686\n",
      "Luiz bateu a meta. Vendas: 685\n",
      "Paulo bateu a meta. Vendas: 670\n",
      "Carlos bateu a meta. Vendas: 631\n",
      "Manoel bateu a meta. Vendas: 453\n",
      "Pedro bateu a meta. Vendas: 386\n",
      "Francisca bateu a meta. Vendas: 371\n",
      "Marcos bateu a meta. Vendas: 294\n",
      "Raimundo bateu a meta. Vendas: 269\n",
      "Sebastião bateu a meta. Vendas: 259\n",
      "Antônia bateu a meta. Vendas: 218\n",
      "Marcelo bateu a meta. Vendas: 208\n",
      "Jorge bateu a meta. Vendas: 163\n",
      "Márcia bateu a meta. Vendas: 125\n",
      "Geraldo bateu a meta. Vendas: 102\n",
      "Adriana bateu a meta. Vendas: 87\n"
     ]
    }
   ],
   "source": [
    "i = 0\n",
    "while vendas[i] > meta:\n",
    "    print('{} bateu a meta. Vendas: {}' .format(vendedores[i], vendas[i]))\n",
    "    i+=1"
   ]
  },
  {
   "cell_type": "code",
   "execution_count": null,
   "id": "7ef89237-13b6-4e97-8720-41af448453f3",
   "metadata": {},
   "outputs": [],
   "source": []
  },
  {
   "cell_type": "code",
   "execution_count": null,
   "id": "dcdd2436-147b-4fed-b30c-90a1ad22b728",
   "metadata": {},
   "outputs": [],
   "source": []
  },
  {
   "cell_type": "code",
   "execution_count": null,
   "id": "01c7db45-bb09-4c0b-8980-3e13aac85c7b",
   "metadata": {},
   "outputs": [],
   "source": []
  },
  {
   "cell_type": "code",
   "execution_count": null,
   "id": "b3b7fb4d-4e6f-46ed-84f3-7255d1566c2f",
   "metadata": {},
   "outputs": [],
   "source": []
  }
 ],
 "metadata": {
  "kernelspec": {
   "display_name": "Python 3 (ipykernel)",
   "language": "python",
   "name": "python3"
  },
  "language_info": {
   "codemirror_mode": {
    "name": "ipython",
    "version": 3
   },
   "file_extension": ".py",
   "mimetype": "text/x-python",
   "name": "python",
   "nbconvert_exporter": "python",
   "pygments_lexer": "ipython3",
   "version": "3.11.7"
  }
 },
 "nbformat": 4,
 "nbformat_minor": 5
}
