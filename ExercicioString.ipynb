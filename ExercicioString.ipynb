{
 "cells": [
  {
   "cell_type": "code",
   "execution_count": 13,
   "id": "ee4c4630-37b7-408e-82ec-4aa3cb8c5100",
   "metadata": {},
   "outputs": [
    {
     "name": "stdin",
     "output_type": "stream",
     "text": [
      "Insira seu CPF(Digite apenas os números): 000*000*000-09\n"
     ]
    },
    {
     "name": "stdout",
     "output_type": "stream",
     "text": [
      "Digite seu CPF CORRETAMENTE\n"
     ]
    }
   ],
   "source": [
    "cpf = input('Insira seu CPF(Digite apenas os números):')\n",
    "cpf = cpf.strip()\n",
    "cpf = cpf.replace('.','')\n",
    "cpf = cpf.replace('-','')\n",
    "if len(cpf) == 11 and cpf.isnumeric():\n",
    "    print(cpf)\n",
    "else:\n",
    "    print('Digite seu CPF CORRETAMENTE')\n"
   ]
  },
  {
   "cell_type": "code",
   "execution_count": 25,
   "id": "62d15a92-e4da-4eb4-9f56-6797523c84dd",
   "metadata": {},
   "outputs": [
    {
     "name": "stdin",
     "output_type": "stream",
     "text": [
      "Digite seu Nome: Gui\n",
      "Digite se email: guilherme00.ge@gmail.com\n"
     ]
    },
    {
     "name": "stdout",
     "output_type": "stream",
     "text": [
      "Cadastro Concluído\n",
      "Gui\n"
     ]
    }
   ],
   "source": [
    "nome = input('Digite seu Nome:')\n",
    "email = input('Digite se email:')\n",
    "if nome and email:\n",
    "    pos_a = email.find('@')\n",
    "    servidor = email[pos_a:]\n",
    "    if pos_a != -1 and '.' in servidor:\n",
    "        print('Cadastro Concluído')\n",
    "    print(nome)\n",
    "    \n",
    "else:\n",
    "    print('Digite seu nome e email corretamente')"
   ]
  },
  {
   "cell_type": "code",
   "execution_count": null,
   "id": "abaabf39-0b41-421f-b77b-676528367646",
   "metadata": {},
   "outputs": [],
   "source": []
  }
 ],
 "metadata": {
  "kernelspec": {
   "display_name": "Python 3 (ipykernel)",
   "language": "python",
   "name": "python3"
  },
  "language_info": {
   "codemirror_mode": {
    "name": "ipython",
    "version": 3
   },
   "file_extension": ".py",
   "mimetype": "text/x-python",
   "name": "python",
   "nbconvert_exporter": "python",
   "pygments_lexer": "ipython3",
   "version": "3.11.7"
  }
 },
 "nbformat": 4,
 "nbformat_minor": 5
}
