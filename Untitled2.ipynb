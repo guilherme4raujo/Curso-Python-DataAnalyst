{
 "cells": [
  {
   "cell_type": "code",
   "execution_count": 8,
   "id": "bf95a51a-3e58-4d56-be49-5b3eb8a9b234",
   "metadata": {},
   "outputs": [],
   "source": [
    "meta = 10000\n",
    "vendas = [\n",
    "    ['João', 15000],\n",
    "    ['Julia', 27000],\n",
    "    ['Marcus', 9900],\n",
    "    ['Maria', 3750],\n",
    "    ['Ana', 10300],\n",
    "    ['Alon', 7870],\n",
    "]\n"
   ]
  },
  {
   "cell_type": "code",
   "execution_count": 13,
   "id": "68da9eb1-6f20-42ce-b5f0-4c00f7bb7aa4",
   "metadata": {},
   "outputs": [
    {
     "name": "stdout",
     "output_type": "stream",
     "text": [
      "[['João', 15000], ['Julia', 27000], ['Ana', 10300]]\n",
      "50.0% dos vendedores bateram a meta.\n"
     ]
    }
   ],
   "source": [
    "#criando lista auxiliar\n",
    "\n",
    "acima_da_meta = []\n",
    "\n",
    "for venda in vendas:\n",
    "    if venda[1] > meta:\n",
    "        acima_da_meta.append(venda)\n",
    "        \n",
    "print(acima_da_meta)\n",
    "print('{:.1%} dos vendedores bateram a meta.' .format(len(acima_da_meta)/len(vendas)))\n"
   ]
  },
  {
   "cell_type": "code",
   "execution_count": 14,
   "id": "6ec0d845-16e1-4b47-961b-a7be4d94bc15",
   "metadata": {},
   "outputs": [
    {
     "name": "stdout",
     "output_type": "stream",
     "text": [
      "o melhor vendedor foi Julia com 27000 vendas\n"
     ]
    }
   ],
   "source": [
    "melhor_vendedor = ''\n",
    "maior_venda = 0\n",
    "\n",
    "for venda in vendas:\n",
    "    if venda[1] > maior_venda:\n",
    "        maior_venda = venda[1]\n",
    "        melhor_vendedor = venda[0]\n",
    "        \n",
    "print('o melhor vendedor foi {} com {} vendas'.format(melhor_vendedor, maior_venda))        "
   ]
  },
  {
   "cell_type": "code",
   "execution_count": null,
   "id": "2ec1e4a0-6bcc-4155-9c97-8a4a877fd0eb",
   "metadata": {},
   "outputs": [],
   "source": []
  }
 ],
 "metadata": {
  "kernelspec": {
   "display_name": "Python 3 (ipykernel)",
   "language": "python",
   "name": "python3"
  },
  "language_info": {
   "codemirror_mode": {
    "name": "ipython",
    "version": 3
   },
   "file_extension": ".py",
   "mimetype": "text/x-python",
   "name": "python",
   "nbconvert_exporter": "python",
   "pygments_lexer": "ipython3",
   "version": "3.11.7"
  }
 },
 "nbformat": 4,
 "nbformat_minor": 5
}
