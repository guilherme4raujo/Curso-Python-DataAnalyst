{
 "cells": [
  {
   "cell_type": "code",
   "execution_count": null,
   "id": "787612af-6c63-4104-a9cd-cbc618595652",
   "metadata": {},
   "outputs": [],
   "source": [
    "vendas = [\n",
    "    ('20/08/2020', 'iphone x', 'azul', '128gb', 350, 4000),\n",
    "    ('20/08/2020', 'iphone x', 'prata', '128gb', 1500, 4000),\n",
    "    ('20/08/2020', 'ipad', 'prata', '256gb', 127, 6000),\n",
    "    ('20/08/2020', 'ipad', 'prata', '128gb', 981, 5000),\n",
    "    ('21/08/2020', 'iphone x', 'azul', '128gb', 397, 4000),\n",
    "    ('21/08/2020', 'iphone x', 'prata', '128gb', 1017, 4000),\n",
    "    ('21/08/2020', 'ipad', 'prata', '256gb', 50, 6000),\n",
    "    ('21/08/2020', 'ipad', 'prata', '128gb', 4000, 5000),\n",
    "]"
   ]
  },
  {
   "cell_type": "code",
   "execution_count": 2,
   "id": "af9c48af-7953-4d4d-ac5b-c45144fe8a85",
   "metadata": {},
   "outputs": [
    {
     "name": "stdout",
     "output_type": "stream",
     "text": [
      "João bateu a meta, vendeu 15000 unidades\n",
      "Julia bateu a meta, vendeu 27000 unidades\n",
      "Ana bateu a meta, vendeu 10300 unidades\n"
     ]
    }
   ],
   "source": [
    "meta = 10000\n",
    "vendas = [\n",
    "    ('João', 15000),\n",
    "    ('Julia', 27000),\n",
    "    ('Marcus', 9900),\n",
    "    ('Maria', 3750),\n",
    "    ('Ana', 10300),\n",
    "    ('Alon', 7870),\n",
    "]\n",
    "\n",
    "for vendedor, qtde in vendas:\n",
    "    if qtde >= meta:\n",
    "        print('{} bateu a meta, vendeu {} unidades' .format(vendedor, qtde))"
   ]
  },
  {
   "cell_type": "code",
   "execution_count": 13,
   "id": "eeec415b-7b79-4945-a084-00677b37eec1",
   "metadata": {},
   "outputs": [],
   "source": [
    "vendas_produtos = [('iphone', 558147, 951642), ('galaxy', 712350, 244295), ('ipad', 573823, 26964), ('tv', 405252, 787604), ('máquina de café', 718654, 867660), ('kindle', 531580, 78830), ('geladeira', 973139, 710331), ('adega', 892292, 646016), ('notebook dell', 422760, 694913), ('notebook hp', 154753, 539704), ('notebook asus', 887061, 324831), ('microsoft surface', 438508, 667179), ('webcam', 237467, 295633), ('caixa de som', 489705, 725316), ('microfone', 328311, 644622), ('câmera canon', 591120, 994303)]"
   ]
  },
  {
   "cell_type": "code",
   "execution_count": 15,
   "id": "f91f3bd6-97d2-4218-a7c8-36e4a6053eca",
   "metadata": {},
   "outputs": [
    {
     "name": "stdout",
     "output_type": "stream",
     "text": [
      "iphone teve 558147 vendas em 2019 e 951642 em 2020. Crescimento de: 70.50%\n",
      "tv teve 405252 vendas em 2019 e 787604 em 2020. Crescimento de: 94.35%\n",
      "máquina de café teve 718654 vendas em 2019 e 867660 em 2020. Crescimento de: 20.73%\n",
      "notebook dell teve 422760 vendas em 2019 e 694913 em 2020. Crescimento de: 64.38%\n",
      "notebook hp teve 154753 vendas em 2019 e 539704 em 2020. Crescimento de: 248.75%\n",
      "microsoft surface teve 438508 vendas em 2019 e 667179 em 2020. Crescimento de: 52.15%\n",
      "webcam teve 237467 vendas em 2019 e 295633 em 2020. Crescimento de: 24.49%\n",
      "caixa de som teve 489705 vendas em 2019 e 725316 em 2020. Crescimento de: 48.11%\n",
      "microfone teve 328311 vendas em 2019 e 644622 em 2020. Crescimento de: 96.34%\n",
      "câmera canon teve 591120 vendas em 2019 e 994303 em 2020. Crescimento de: 68.21%\n"
     ]
    }
   ],
   "source": [
    "for produto, vendas2019, vendas2020 in vendas_produtos:\n",
    "    if vendas2020 > vendas2019 :\n",
    "        crescimento = vendas2020 / vendas2019 - 1\n",
    "        print('{} teve {} vendas em 2019 e {} em 2020. Crescimento de: {:.2%}'.format(produto, vendas2019, vendas2020, crescimento))"
   ]
  },
  {
   "cell_type": "code",
   "execution_count": 39,
   "id": "3c54fa39-9ffa-4e62-ac54-fdc4691801a0",
   "metadata": {},
   "outputs": [
    {
     "name": "stdout",
     "output_type": "stream",
     "text": [
      "7400000\n"
     ]
    }
   ],
   "source": [
    "#QUAL FOI O FATURAMENTO DE IPHONE NO DIA 20/08/2020?\n",
    "\n",
    "vendas = [\n",
    "    ('20/08/2020', 'iphone x', 'azul', '128gb', 350, 4000),\n",
    "    ('20/08/2020', 'iphone x', 'prata', '128gb', 1500, 4000),\n",
    "    ('20/08/2020', 'ipad', 'prata', '256gb', 127, 6000),\n",
    "    ('20/08/2020', 'ipad', 'prata', '128gb', 981, 5000),\n",
    "    ('21/08/2020', 'iphone x', 'azul', '128gb', 397, 4000),\n",
    "    ('21/08/2020', 'iphone x', 'prata', '128gb', 1017, 4000),\n",
    "    ('21/08/2020', 'ipad', 'prata', '256gb', 50, 6000),\n",
    "    ('21/08/2020', 'ipad', 'prata', '128gb', 4000, 5000),\n",
    "]\n",
    "faturamento = 0\n",
    "for data, produto,cor,capacidade,unidade,preco in vendas:\n",
    "    if produto == 'iphone x' and data == '20/08/2020':\n",
    "        faturamento = faturamento + (unidade * preco)\n",
    "print(faturamento)\n",
    "\n"
   ]
  },
  {
   "cell_type": "code",
   "execution_count": null,
   "id": "6de11b41-5570-4bfe-b306-ee0fc4f4440b",
   "metadata": {},
   "outputs": [],
   "source": []
  },
  {
   "cell_type": "code",
   "execution_count": null,
   "id": "78a7ac96-d68a-4cc0-b35e-42ba5fc58ba1",
   "metadata": {},
   "outputs": [],
   "source": []
  },
  {
   "cell_type": "code",
   "execution_count": null,
   "id": "0bbde393-c21d-43b8-8831-e91cf4970415",
   "metadata": {},
   "outputs": [],
   "source": []
  },
  {
   "cell_type": "code",
   "execution_count": 25,
   "id": "83a394bd-333b-48da-8751-6e4ec5a4b8f3",
   "metadata": {},
   "outputs": [
    {
     "name": "stdout",
     "output_type": "stream",
     "text": [
      "Meu produto mais vendido foi ipad com 4000 unidades vendidas\n"
     ]
    }
   ],
   "source": [
    "produto_mais_vendido = ''\n",
    "qtde_mais_vendido = 0\n",
    "\n",
    "for item in vendas:\n",
    "    data, produto,cor,capacidade,unidades,valor_unitario = item\n",
    "    if data == '21/08/2020':\n",
    "        if unidades > qtde_mais_vendido:\n",
    "            produto_mais_vendido = produto\n",
    "            qtde_mais_vendido = unidades\n",
    "print('Meu produto mais vendido foi {} com {} unidades vendidas' .format(produto_mais_vendido, qtde_mais_vendido))\n",
    "        "
   ]
  },
  {
   "cell_type": "code",
   "execution_count": null,
   "id": "4833f13f-91cc-4223-8c7a-32016ad72559",
   "metadata": {},
   "outputs": [],
   "source": []
  },
  {
   "cell_type": "code",
   "execution_count": null,
   "id": "8380d7f7-5ebd-4420-9678-5540de226a1b",
   "metadata": {},
   "outputs": [],
   "source": []
  },
  {
   "cell_type": "code",
   "execution_count": null,
   "id": "e85847de-204b-4229-91d4-06098d2109ba",
   "metadata": {},
   "outputs": [],
   "source": []
  }
 ],
 "metadata": {
  "kernelspec": {
   "display_name": "Python 3 (ipykernel)",
   "language": "python",
   "name": "python3"
  },
  "language_info": {
   "codemirror_mode": {
    "name": "ipython",
    "version": 3
   },
   "file_extension": ".py",
   "mimetype": "text/x-python",
   "name": "python",
   "nbconvert_exporter": "python",
   "pygments_lexer": "ipython3",
   "version": "3.11.7"
  }
 },
 "nbformat": 4,
 "nbformat_minor": 5
}
