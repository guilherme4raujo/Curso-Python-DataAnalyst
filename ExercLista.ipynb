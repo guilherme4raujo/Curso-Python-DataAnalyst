{
 "cells": [
  {
   "cell_type": "code",
   "execution_count": 68,
   "id": "5901b169-57be-4172-a796-76e9e47c29f7",
   "metadata": {},
   "outputs": [
    {
     "name": "stdout",
     "output_type": "stream",
     "text": [
      "['apple tv', 'mac', 'iphone x', 'Ipad', 'apple watch', 'macbook', 'airpods', 'iphone 12', 'ioculos']\n"
     ]
    }
   ],
   "source": [
    "produtos = ['apple tv','mac','iphone x','Ipad','apple watch','macbook','airpods']\n",
    "novos_produtos = ['iphone 12', 'ioculos']\n",
    "\n",
    "produtos.extend(novos_produtos)\n",
    "print(produtos)"
   ]
  },
  {
   "cell_type": "markdown",
   "id": "f12ad7fb-71a4-4146-b56a-fd2661f522ad",
   "metadata": {
    "scrolled": true
   },
   "source": [
    "Faturamento do Melhor e do Pior mês do ano \n",
    "\n",
    "Qual foi o valor de vendas do melhor mês do Ano? E valor do pior mês do ano?"
   ]
  },
  {
   "cell_type": "code",
   "execution_count": 76,
   "id": "27ba4f3b-30ca-4b2c-a9dd-c902cd9fd7e6",
   "metadata": {},
   "outputs": [],
   "source": [
    "meses = ['jan','fev','mar','abr','mai','jun','jul','ago','set','out','nov','dez']\n",
    "vendas_1sem = [25000, 29000, 22200, 17750,15870,19900]\n",
    "vendas_2sem = [19850,20120,17540,15555,49051,9650]\n"
   ]
  },
  {
   "cell_type": "code",
   "execution_count": 77,
   "id": "9b546640-058e-43b3-899c-24f3ab854cfa",
   "metadata": {
    "scrolled": true
   },
   "outputs": [
    {
     "name": "stdout",
     "output_type": "stream",
     "text": [
      "[25000, 29000, 22200, 17750, 15870, 19900, 19850, 20120, 17540, 15555, 49051, 9650]\n",
      "O maior valor foi: 49051\n"
     ]
    }
   ],
   "source": [
    "vendas_1sem.extend(vendas_2sem)\n",
    "print(vendas_1sem)\n",
    "\n",
    "maior_valor = max(vendas_1sem)\n",
    "print('O maior valor foi: {}'.format(maior_valor))"
   ]
  },
  {
   "cell_type": "markdown",
   "id": "6a99a776-1ece-4c8d-96ab-f78c032baa70",
   "metadata": {},
   "source": [
    "Agora relacione as duas listas para printar 'O melhor mês do ano foi {} com {} vendas' e o mesmo para o pior mês do ano.\n",
    "\n",
    "Calcule também o faturamento total do Ano e quanto que o melhor mÊs representou do faturamento total.\n",
    "Obs.: Para o faturamento total, pode usar a função sum(lista) que soma todos os itens de uma lista"
   ]
  },
  {
   "cell_type": "code",
   "execution_count": 78,
   "id": "634f32ac-a259-468f-946a-018d84cc3214",
   "metadata": {},
   "outputs": [
    {
     "name": "stdout",
     "output_type": "stream",
     "text": [
      "O melhor mês do ano foi nov com 49051 vendas\n"
     ]
    }
   ],
   "source": [
    "i = vendas_1sem.index(maior_valor)\n",
    "melhor_mes = meses[i]\n",
    "print('O melhor mês do ano foi {} com {} vendas' .format(melhor_mes, maior_valor))"
   ]
  },
  {
   "cell_type": "code",
   "execution_count": 79,
   "id": "f2ceb1fe-5c8b-4e53-a034-9d5508482cc1",
   "metadata": {},
   "outputs": [
    {
     "name": "stdout",
     "output_type": "stream",
     "text": [
      "O pior mês do ano foi dez com 9650 vendas\n"
     ]
    }
   ],
   "source": [
    "menor_valor = min(vendas_1sem)\n",
    "i = vendas_1sem.index(menor_valor)\n",
    "menor_mes = meses[i]\n",
    "print('O pior mês do ano foi {} com {} vendas' .format(menor_mes, menor_valor))"
   ]
  },
  {
   "cell_type": "code",
   "execution_count": 80,
   "id": "6087b0b9-deea-48d7-b505-2a682ed5e920",
   "metadata": {},
   "outputs": [
    {
     "name": "stdout",
     "output_type": "stream",
     "text": [
      "O Faturamento total foi de: R$261486.00\n"
     ]
    }
   ],
   "source": [
    "faturamento_total = sum(vendas_1sem)\n",
    "print('O Faturamento total foi de: R${:.2f}'.format(faturamento_total))"
   ]
  },
  {
   "cell_type": "code",
   "execution_count": 81,
   "id": "54ec0826-ab6f-4378-ab07-e5338fe75013",
   "metadata": {},
   "outputs": [
    {
     "name": "stdout",
     "output_type": "stream",
     "text": [
      "O percentual do maior valor em relação ao faturamento total é de: 18.8%\n"
     ]
    }
   ],
   "source": [
    "percentual = (maior_valor / faturamento_total) \n",
    "\n",
    "print('O percentual do maior valor em relação ao faturamento total é de: {:.1%}'.format(percentual))"
   ]
  },
  {
   "cell_type": "code",
   "execution_count": 82,
   "id": "d46b7d22-d256-4d18-a8b7-207bb43fefe1",
   "metadata": {},
   "outputs": [
    {
     "name": "stdout",
     "output_type": "stream",
     "text": [
      "[25000, 29000, 22200, 17750, 15870, 19900, 19850, 20120, 17540, 15555, 49051, 9650]\n"
     ]
    }
   ],
   "source": [
    "print(vendas_1sem)"
   ]
  },
  {
   "cell_type": "code",
   "execution_count": 83,
   "id": "1acfc8a4-8cfa-461d-ad08-d6a5c29f918e",
   "metadata": {},
   "outputs": [
    {
     "name": "stdout",
     "output_type": "stream",
     "text": [
      "[49051]\n",
      "[25000, 29000, 22200, 17750, 15870, 19900, 19850, 20120, 17540, 15555, 9650]\n",
      "29000\n",
      "[49051, 29000]\n",
      "[25000, 22200, 17750, 15870, 19900, 19850, 20120, 17540, 15555, 9650]\n",
      "25000\n",
      "[49051, 29000, 25000]\n",
      "[22200, 17750, 15870, 19900, 19850, 20120, 17540, 15555, 9650]\n"
     ]
    }
   ],
   "source": [
    "top3 = []\n",
    "valor_maximo = max(vendas_1sem)\n",
    "top3.append(valor_maximo)\n",
    "print(top3)\n",
    "vendas_1sem.remove(valor_maximo)\n",
    "print(vendas_1sem)\n",
    "\n",
    "valor_maximo2 = max(vendas_1sem)\n",
    "print(valor_maximo2)\n",
    "top3.append(valor_maximo2)\n",
    "print(top3)\n",
    "vendas_1sem.remove(valor_maximo2)\n",
    "print(vendas_1sem)\n",
    "\n",
    "valor_maximo3 = max(vendas_1sem)\n",
    "print(valor_maximo3)\n",
    "top3.append(valor_maximo3)\n",
    "vendas_1sem.remove(valor_maximo3)\n",
    "\n",
    "print(top3)\n",
    "print(vendas_1sem)\n"
   ]
  },
  {
   "cell_type": "code",
   "execution_count": null,
   "id": "fac3973e-7d59-4be6-b082-94892e941b4e",
   "metadata": {},
   "outputs": [],
   "source": []
  }
 ],
 "metadata": {
  "kernelspec": {
   "display_name": "Python 3 (ipykernel)",
   "language": "python",
   "name": "python3"
  },
  "language_info": {
   "codemirror_mode": {
    "name": "ipython",
    "version": 3
   },
   "file_extension": ".py",
   "mimetype": "text/x-python",
   "name": "python",
   "nbconvert_exporter": "python",
   "pygments_lexer": "ipython3",
   "version": "3.11.7"
  }
 },
 "nbformat": 4,
 "nbformat_minor": 5
}
